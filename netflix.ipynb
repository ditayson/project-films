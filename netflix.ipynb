{
 "cells": [
  {
   "cell_type": "code",
   "execution_count": 1,
   "id": "697a3cac",
   "metadata": {},
   "outputs": [],
   "source": [
    "#Подгружаем библиотеки\n",
    "import pandas as pd\n",
    "import numpy as np\n",
    "import matplotlib.pyplot as plt\n",
    "import seaborn as sns\n",
    "%matplotlib inline\n",
    "sns.set()"
   ]
  },
  {
   "cell_type": "code",
   "execution_count": 69,
   "id": "06d72c3e",
   "metadata": {},
   "outputs": [
    {
     "data": {
      "text/html": [
       "<div>\n",
       "<style scoped>\n",
       "    .dataframe tbody tr th:only-of-type {\n",
       "        vertical-align: middle;\n",
       "    }\n",
       "\n",
       "    .dataframe tbody tr th {\n",
       "        vertical-align: top;\n",
       "    }\n",
       "\n",
       "    .dataframe thead th {\n",
       "        text-align: right;\n",
       "    }\n",
       "</style>\n",
       "<table border=\"1\" class=\"dataframe\">\n",
       "  <thead>\n",
       "    <tr style=\"text-align: right;\">\n",
       "      <th></th>\n",
       "      <th>Show Id</th>\n",
       "      <th>Title</th>\n",
       "      <th>Description</th>\n",
       "      <th>Director</th>\n",
       "      <th>Genres</th>\n",
       "      <th>Cast</th>\n",
       "      <th>Production Country</th>\n",
       "      <th>Release Date</th>\n",
       "      <th>Rating</th>\n",
       "      <th>Duration</th>\n",
       "      <th>Imdb Score</th>\n",
       "      <th>Content Type</th>\n",
       "      <th>Date Added</th>\n",
       "    </tr>\n",
       "  </thead>\n",
       "  <tbody>\n",
       "    <tr>\n",
       "      <th>0</th>\n",
       "      <td>cc1b6ed9-cf9e-4057-8303-34577fb54477</td>\n",
       "      <td>(Un)Well</td>\n",
       "      <td>This docuseries takes a deep dive into the luc...</td>\n",
       "      <td>NaN</td>\n",
       "      <td>Reality TV</td>\n",
       "      <td>NaN</td>\n",
       "      <td>United States</td>\n",
       "      <td>2020.0</td>\n",
       "      <td>TV-MA</td>\n",
       "      <td>1 Season</td>\n",
       "      <td>6.6/10</td>\n",
       "      <td>TV Show</td>\n",
       "      <td>NaN</td>\n",
       "    </tr>\n",
       "    <tr>\n",
       "      <th>1</th>\n",
       "      <td>e2ef4e91-fb25-42ab-b485-be8e3b23dedb</td>\n",
       "      <td>#Alive</td>\n",
       "      <td>As a grisly virus rampages a city, a lone man ...</td>\n",
       "      <td>Cho Il</td>\n",
       "      <td>Horror Movies, International Movies, Thrillers</td>\n",
       "      <td>Yoo Ah-in, Park Shin-hye</td>\n",
       "      <td>South Korea</td>\n",
       "      <td>2020.0</td>\n",
       "      <td>TV-MA</td>\n",
       "      <td>99 min</td>\n",
       "      <td>6.2/10</td>\n",
       "      <td>Movie</td>\n",
       "      <td>September 8, 2020</td>\n",
       "    </tr>\n",
       "    <tr>\n",
       "      <th>2</th>\n",
       "      <td>b01b73b7-81f6-47a7-86d8-acb63080d525</td>\n",
       "      <td>#AnneFrank - Parallel Stories</td>\n",
       "      <td>Through her diary, Anne Frank's story is retol...</td>\n",
       "      <td>Sabina Fedeli, Anna Migotto</td>\n",
       "      <td>Documentaries, International Movies</td>\n",
       "      <td>Helen Mirren, Gengher Gatti</td>\n",
       "      <td>Italy</td>\n",
       "      <td>2019.0</td>\n",
       "      <td>TV-14</td>\n",
       "      <td>95 min</td>\n",
       "      <td>6.4/10</td>\n",
       "      <td>Movie</td>\n",
       "      <td>July 1, 2020</td>\n",
       "    </tr>\n",
       "    <tr>\n",
       "      <th>3</th>\n",
       "      <td>b6611af0-f53c-4a08-9ffa-9716dc57eb9c</td>\n",
       "      <td>#blackAF</td>\n",
       "      <td>Kenya Barris and his family navigate relations...</td>\n",
       "      <td>NaN</td>\n",
       "      <td>TV Comedies</td>\n",
       "      <td>Kenya Barris, Rashida Jones, Iman Benson, Genn...</td>\n",
       "      <td>United States</td>\n",
       "      <td>2020.0</td>\n",
       "      <td>TV-MA</td>\n",
       "      <td>1 Season</td>\n",
       "      <td>6.6/10</td>\n",
       "      <td>TV Show</td>\n",
       "      <td>NaN</td>\n",
       "    </tr>\n",
       "    <tr>\n",
       "      <th>4</th>\n",
       "      <td>7f2d4170-bab8-4d75-adc2-197f7124c070</td>\n",
       "      <td>#cats_the_mewvie</td>\n",
       "      <td>This pawesome documentary explores how our fel...</td>\n",
       "      <td>Michael Margolis</td>\n",
       "      <td>Documentaries, International Movies</td>\n",
       "      <td>NaN</td>\n",
       "      <td>Canada</td>\n",
       "      <td>2020.0</td>\n",
       "      <td>TV-14</td>\n",
       "      <td>90 min</td>\n",
       "      <td>5.1/10</td>\n",
       "      <td>Movie</td>\n",
       "      <td>February 5, 2020</td>\n",
       "    </tr>\n",
       "  </tbody>\n",
       "</table>\n",
       "</div>"
      ],
      "text/plain": [
       "                                Show Id                          Title  \\\n",
       "0  cc1b6ed9-cf9e-4057-8303-34577fb54477                       (Un)Well   \n",
       "1  e2ef4e91-fb25-42ab-b485-be8e3b23dedb                         #Alive   \n",
       "2  b01b73b7-81f6-47a7-86d8-acb63080d525  #AnneFrank - Parallel Stories   \n",
       "3  b6611af0-f53c-4a08-9ffa-9716dc57eb9c                       #blackAF   \n",
       "4  7f2d4170-bab8-4d75-adc2-197f7124c070               #cats_the_mewvie   \n",
       "\n",
       "                                         Description  \\\n",
       "0  This docuseries takes a deep dive into the luc...   \n",
       "1  As a grisly virus rampages a city, a lone man ...   \n",
       "2  Through her diary, Anne Frank's story is retol...   \n",
       "3  Kenya Barris and his family navigate relations...   \n",
       "4  This pawesome documentary explores how our fel...   \n",
       "\n",
       "                      Director  \\\n",
       "0                          NaN   \n",
       "1                       Cho Il   \n",
       "2  Sabina Fedeli, Anna Migotto   \n",
       "3                          NaN   \n",
       "4             Michael Margolis   \n",
       "\n",
       "                                           Genres  \\\n",
       "0                                      Reality TV   \n",
       "1  Horror Movies, International Movies, Thrillers   \n",
       "2             Documentaries, International Movies   \n",
       "3                                     TV Comedies   \n",
       "4             Documentaries, International Movies   \n",
       "\n",
       "                                                Cast Production Country  \\\n",
       "0                                                NaN      United States   \n",
       "1                           Yoo Ah-in, Park Shin-hye        South Korea   \n",
       "2                        Helen Mirren, Gengher Gatti              Italy   \n",
       "3  Kenya Barris, Rashida Jones, Iman Benson, Genn...      United States   \n",
       "4                                                NaN             Canada   \n",
       "\n",
       "   Release Date Rating  Duration Imdb Score Content Type         Date Added  \n",
       "0        2020.0  TV-MA  1 Season     6.6/10      TV Show                NaN  \n",
       "1        2020.0  TV-MA    99 min     6.2/10        Movie  September 8, 2020  \n",
       "2        2019.0  TV-14    95 min     6.4/10        Movie       July 1, 2020  \n",
       "3        2020.0  TV-MA  1 Season     6.6/10      TV Show                NaN  \n",
       "4        2020.0  TV-14    90 min     5.1/10        Movie   February 5, 2020  "
      ]
     },
     "execution_count": 69,
     "metadata": {},
     "output_type": "execute_result"
    }
   ],
   "source": [
    "#Подгружаем данные\n",
    "netflix_data = pd.read_csv('netflixData.csv')\n",
    "netflix_data.head()"
   ]
  },
  {
   "cell_type": "code",
   "execution_count": 70,
   "id": "064039e7",
   "metadata": {},
   "outputs": [
    {
     "name": "stdout",
     "output_type": "stream",
     "text": [
      "<class 'pandas.core.frame.DataFrame'>\n",
      "RangeIndex: 5967 entries, 0 to 5966\n",
      "Data columns (total 13 columns):\n",
      " #   Column              Non-Null Count  Dtype  \n",
      "---  ------              --------------  -----  \n",
      " 0   Show Id             5967 non-null   object \n",
      " 1   Title               5967 non-null   object \n",
      " 2   Description         5967 non-null   object \n",
      " 3   Director            3903 non-null   object \n",
      " 4   Genres              5967 non-null   object \n",
      " 5   Cast                5437 non-null   object \n",
      " 6   Production Country  5408 non-null   object \n",
      " 7   Release Date        5964 non-null   float64\n",
      " 8   Rating              5963 non-null   object \n",
      " 9   Duration            5964 non-null   object \n",
      " 10  Imdb Score          5359 non-null   object \n",
      " 11  Content Type        5967 non-null   object \n",
      " 12  Date Added          4632 non-null   object \n",
      "dtypes: float64(1), object(12)\n",
      "memory usage: 606.1+ KB\n"
     ]
    }
   ],
   "source": [
    "#Информация \n",
    "netflix_data.info()"
   ]
  },
  {
   "cell_type": "code",
   "execution_count": 71,
   "id": "008bc1d1",
   "metadata": {},
   "outputs": [
    {
     "data": {
      "text/plain": [
       "Show Id                  0\n",
       "Title                    0\n",
       "Description              0\n",
       "Director              2064\n",
       "Genres                   0\n",
       "Cast                   530\n",
       "Production Country     559\n",
       "Release Date             3\n",
       "Rating                   4\n",
       "Duration                 3\n",
       "Imdb Score             608\n",
       "Content Type             0\n",
       "Date Added            1335\n",
       "dtype: int64"
      ]
     },
     "execution_count": 71,
     "metadata": {},
     "output_type": "execute_result"
    }
   ],
   "source": [
    "#Пропущенные данные \n",
    "netflix_data.isnull().sum()"
   ]
  },
  {
   "cell_type": "code",
   "execution_count": 72,
   "id": "8d3025ea",
   "metadata": {
    "scrolled": true
   },
   "outputs": [],
   "source": [
    "#Уберем три значения NaN в колонке Release Date, чтоб иметь возможность изменить тип данных\n",
    "netflix_data.dropna(subset=['Release Date'], inplace=True)"
   ]
  },
  {
   "cell_type": "code",
   "execution_count": 73,
   "id": "a7bfd779",
   "metadata": {},
   "outputs": [
    {
     "data": {
      "text/plain": [
       "(5964, 13)"
      ]
     },
     "execution_count": 73,
     "metadata": {},
     "output_type": "execute_result"
    }
   ],
   "source": [
    "#Проверим количество данных\n",
    "netflix_data.shape"
   ]
  },
  {
   "cell_type": "code",
   "execution_count": 74,
   "id": "1a0f1687",
   "metadata": {},
   "outputs": [
    {
     "data": {
      "text/plain": [
       "array([2020., 2019., 2018., 2017., 2016., 2014., 2012., 2013., 2009.,\n",
       "       2011., 2015., 2021., 1971., 2006., 2007., 1988., 2008., 1993.,\n",
       "       2010., 1986., 1990., 1997., 1979., 1989., 1980., 2002., 1992.,\n",
       "       2001., 1966., 1982., 1994., 2005., 2003., 1999., 1978., 2000.,\n",
       "       1975., 1991., 2004., 1998., 1981., 1958., 1996., 1976., 1983.,\n",
       "       1974., 1995., 1956., 1985., 1984., 1987., 1945., 1972., 1977.,\n",
       "       1973., 1964., 1925., 1969., 1962., 1963., 1960., 1968., 1954.,\n",
       "       1970., 1959.])"
      ]
     },
     "execution_count": 74,
     "metadata": {},
     "output_type": "execute_result"
    }
   ],
   "source": [
    "netflix_data['Release Date'].unique()"
   ]
  },
  {
   "cell_type": "code",
   "execution_count": 75,
   "id": "94952ddb",
   "metadata": {},
   "outputs": [],
   "source": [
    "#Поменяем тип данных в колонке \"Дата релиза\"\n",
    "netflix_data['Release Date'] = netflix_data['Release Date'].astype(int)"
   ]
  },
  {
   "cell_type": "code",
   "execution_count": 76,
   "id": "e4e37b04",
   "metadata": {},
   "outputs": [
    {
     "name": "stdout",
     "output_type": "stream",
     "text": [
      "Director null rate: 34.61%\n",
      "Cast null rate: 8.89%\n",
      "Production Country null rate: 9.37%\n",
      "Rating null rate: 0.02%\n",
      "Imdb Score null rate: 10.14%\n",
      "Date Added null rate: 22.33%\n"
     ]
    }
   ],
   "source": [
    "#Замена NaN \n",
    "#Проверим процент пропущенных данных с помощью цикла for\n",
    "for i in netflix_data.columns:\n",
    "    null_rate = netflix_data[i].isna().sum() / len(netflix_data) * 100 \n",
    "    if null_rate > 0 :\n",
    "        print(\"{} null rate: {}%\".format(i,round(null_rate,2)))"
   ]
  },
  {
   "cell_type": "code",
   "execution_count": 78,
   "id": "92a29322",
   "metadata": {},
   "outputs": [],
   "source": [
    "#Замена NaN на моду\n",
    "netflix_data['Production Country'] = netflix_data['Production Country'].fillna(netflix_data['Production Country'].mode()[0])\n",
    "netflix_data['Imdb Score'] = netflix_data['Imdb Score'].fillna(netflix_data['Imdb Score'].mode()[0])"
   ]
  },
  {
   "cell_type": "code",
   "execution_count": 79,
   "id": "a2ce7ae6",
   "metadata": {},
   "outputs": [],
   "source": [
    "#Удолим столбцы, в которых слишком много пропущенных данных и которые не планируем анализировать.\n",
    "netflix_data.drop(['Director', 'Date Added'], axis=1, inplace=True)"
   ]
  },
  {
   "cell_type": "code",
   "execution_count": 65,
   "id": "19da22f4",
   "metadata": {},
   "outputs": [
    {
     "data": {
      "text/html": [
       "<div>\n",
       "<style scoped>\n",
       "    .dataframe tbody tr th:only-of-type {\n",
       "        vertical-align: middle;\n",
       "    }\n",
       "\n",
       "    .dataframe tbody tr th {\n",
       "        vertical-align: top;\n",
       "    }\n",
       "\n",
       "    .dataframe thead th {\n",
       "        text-align: right;\n",
       "    }\n",
       "</style>\n",
       "<table border=\"1\" class=\"dataframe\">\n",
       "  <thead>\n",
       "    <tr style=\"text-align: right;\">\n",
       "      <th></th>\n",
       "      <th>Show Id</th>\n",
       "      <th>Title</th>\n",
       "      <th>Description</th>\n",
       "      <th>Genres</th>\n",
       "      <th>Cast</th>\n",
       "      <th>Production Country</th>\n",
       "      <th>Release Date</th>\n",
       "      <th>Rating</th>\n",
       "      <th>Duration</th>\n",
       "      <th>Imdb Score</th>\n",
       "      <th>Content Type</th>\n",
       "    </tr>\n",
       "  </thead>\n",
       "  <tbody>\n",
       "    <tr>\n",
       "      <th>0</th>\n",
       "      <td>cc1b6ed9-cf9e-4057-8303-34577fb54477</td>\n",
       "      <td>(Un)Well</td>\n",
       "      <td>This docuseries takes a deep dive into the luc...</td>\n",
       "      <td>Reality TV</td>\n",
       "      <td>NaN</td>\n",
       "      <td>United States</td>\n",
       "      <td>2020</td>\n",
       "      <td>TV-MA</td>\n",
       "      <td>1 Season</td>\n",
       "      <td>6.6/10</td>\n",
       "      <td>TV Show</td>\n",
       "    </tr>\n",
       "    <tr>\n",
       "      <th>1</th>\n",
       "      <td>e2ef4e91-fb25-42ab-b485-be8e3b23dedb</td>\n",
       "      <td>#Alive</td>\n",
       "      <td>As a grisly virus rampages a city, a lone man ...</td>\n",
       "      <td>Horror Movies, International Movies, Thrillers</td>\n",
       "      <td>Yoo Ah-in, Park Shin-hye</td>\n",
       "      <td>South Korea</td>\n",
       "      <td>2020</td>\n",
       "      <td>TV-MA</td>\n",
       "      <td>99 min</td>\n",
       "      <td>6.2/10</td>\n",
       "      <td>Movie</td>\n",
       "    </tr>\n",
       "  </tbody>\n",
       "</table>\n",
       "</div>"
      ],
      "text/plain": [
       "                                Show Id     Title  \\\n",
       "0  cc1b6ed9-cf9e-4057-8303-34577fb54477  (Un)Well   \n",
       "1  e2ef4e91-fb25-42ab-b485-be8e3b23dedb    #Alive   \n",
       "\n",
       "                                         Description  \\\n",
       "0  This docuseries takes a deep dive into the luc...   \n",
       "1  As a grisly virus rampages a city, a lone man ...   \n",
       "\n",
       "                                           Genres                      Cast  \\\n",
       "0                                      Reality TV                       NaN   \n",
       "1  Horror Movies, International Movies, Thrillers  Yoo Ah-in, Park Shin-hye   \n",
       "\n",
       "  Production Country  Release Date Rating  Duration Imdb Score Content Type  \n",
       "0      United States          2020  TV-MA  1 Season     6.6/10      TV Show  \n",
       "1        South Korea          2020  TV-MA    99 min     6.2/10        Movie  "
      ]
     },
     "execution_count": 65,
     "metadata": {},
     "output_type": "execute_result"
    }
   ],
   "source": [
    "netflix_data.head(2)"
   ]
  },
  {
   "cell_type": "code",
   "execution_count": 90,
   "id": "85071a2e",
   "metadata": {
    "scrolled": false
   },
   "outputs": [
    {
     "data": {
      "text/plain": [
       "(5963, 11)"
      ]
     },
     "execution_count": 90,
     "metadata": {},
     "output_type": "execute_result"
    }
   ],
   "source": [
    "netflix_data.shape"
   ]
  },
  {
   "cell_type": "code",
   "execution_count": 88,
   "id": "0f447566",
   "metadata": {
    "scrolled": false
   },
   "outputs": [
    {
     "data": {
      "text/plain": [
       "Show Id               0\n",
       "Title                 0\n",
       "Description           0\n",
       "Genres                0\n",
       "Cast                  0\n",
       "Production Country    0\n",
       "Release Date          0\n",
       "Rating                0\n",
       "Duration              0\n",
       "Imdb Score            0\n",
       "Content Type          0\n",
       "dtype: int64"
      ]
     },
     "execution_count": 88,
     "metadata": {},
     "output_type": "execute_result"
    }
   ],
   "source": [
    "netflix_data.isnull().sum()"
   ]
  },
  {
   "cell_type": "code",
   "execution_count": 83,
   "id": "9cdadcd9",
   "metadata": {},
   "outputs": [],
   "source": [
    "#Заменим NaN в колонке 'Cast' на строку 'No Data'\n",
    "netflix_data['Cast'].replace(np.nan, 'No Data',inplace  = True)"
   ]
  },
  {
   "cell_type": "code",
   "execution_count": 87,
   "id": "2b9e59d5",
   "metadata": {},
   "outputs": [],
   "source": [
    "# Удаляем \n",
    "netflix_data.dropna(subset=['Rating'], inplace=True)\n",
    "\n",
    "# Удаляем дубликаты\n",
    "\n",
    "netflix_data.drop_duplicates(inplace= True)"
   ]
  },
  {
   "cell_type": "code",
   "execution_count": 89,
   "id": "0d37d400",
   "metadata": {},
   "outputs": [
    {
     "data": {
      "text/html": [
       "<div>\n",
       "<style scoped>\n",
       "    .dataframe tbody tr th:only-of-type {\n",
       "        vertical-align: middle;\n",
       "    }\n",
       "\n",
       "    .dataframe tbody tr th {\n",
       "        vertical-align: top;\n",
       "    }\n",
       "\n",
       "    .dataframe thead th {\n",
       "        text-align: right;\n",
       "    }\n",
       "</style>\n",
       "<table border=\"1\" class=\"dataframe\">\n",
       "  <thead>\n",
       "    <tr style=\"text-align: right;\">\n",
       "      <th></th>\n",
       "      <th>Show Id</th>\n",
       "      <th>Title</th>\n",
       "      <th>Description</th>\n",
       "      <th>Genres</th>\n",
       "      <th>Cast</th>\n",
       "      <th>Production Country</th>\n",
       "      <th>Release Date</th>\n",
       "      <th>Rating</th>\n",
       "      <th>Duration</th>\n",
       "      <th>Imdb Score</th>\n",
       "      <th>Content Type</th>\n",
       "    </tr>\n",
       "  </thead>\n",
       "  <tbody>\n",
       "    <tr>\n",
       "      <th>0</th>\n",
       "      <td>cc1b6ed9-cf9e-4057-8303-34577fb54477</td>\n",
       "      <td>(Un)Well</td>\n",
       "      <td>This docuseries takes a deep dive into the luc...</td>\n",
       "      <td>Reality TV</td>\n",
       "      <td>No Data</td>\n",
       "      <td>United States</td>\n",
       "      <td>2020</td>\n",
       "      <td>TV-MA</td>\n",
       "      <td>1 Season</td>\n",
       "      <td>6.6/10</td>\n",
       "      <td>TV Show</td>\n",
       "    </tr>\n",
       "    <tr>\n",
       "      <th>1</th>\n",
       "      <td>e2ef4e91-fb25-42ab-b485-be8e3b23dedb</td>\n",
       "      <td>#Alive</td>\n",
       "      <td>As a grisly virus rampages a city, a lone man ...</td>\n",
       "      <td>Horror Movies, International Movies, Thrillers</td>\n",
       "      <td>Yoo Ah-in, Park Shin-hye</td>\n",
       "      <td>South Korea</td>\n",
       "      <td>2020</td>\n",
       "      <td>TV-MA</td>\n",
       "      <td>99 min</td>\n",
       "      <td>6.2/10</td>\n",
       "      <td>Movie</td>\n",
       "    </tr>\n",
       "    <tr>\n",
       "      <th>2</th>\n",
       "      <td>b01b73b7-81f6-47a7-86d8-acb63080d525</td>\n",
       "      <td>#AnneFrank - Parallel Stories</td>\n",
       "      <td>Through her diary, Anne Frank's story is retol...</td>\n",
       "      <td>Documentaries, International Movies</td>\n",
       "      <td>Helen Mirren, Gengher Gatti</td>\n",
       "      <td>Italy</td>\n",
       "      <td>2019</td>\n",
       "      <td>TV-14</td>\n",
       "      <td>95 min</td>\n",
       "      <td>6.4/10</td>\n",
       "      <td>Movie</td>\n",
       "    </tr>\n",
       "    <tr>\n",
       "      <th>3</th>\n",
       "      <td>b6611af0-f53c-4a08-9ffa-9716dc57eb9c</td>\n",
       "      <td>#blackAF</td>\n",
       "      <td>Kenya Barris and his family navigate relations...</td>\n",
       "      <td>TV Comedies</td>\n",
       "      <td>Kenya Barris, Rashida Jones, Iman Benson, Genn...</td>\n",
       "      <td>United States</td>\n",
       "      <td>2020</td>\n",
       "      <td>TV-MA</td>\n",
       "      <td>1 Season</td>\n",
       "      <td>6.6/10</td>\n",
       "      <td>TV Show</td>\n",
       "    </tr>\n",
       "    <tr>\n",
       "      <th>4</th>\n",
       "      <td>7f2d4170-bab8-4d75-adc2-197f7124c070</td>\n",
       "      <td>#cats_the_mewvie</td>\n",
       "      <td>This pawesome documentary explores how our fel...</td>\n",
       "      <td>Documentaries, International Movies</td>\n",
       "      <td>No Data</td>\n",
       "      <td>Canada</td>\n",
       "      <td>2020</td>\n",
       "      <td>TV-14</td>\n",
       "      <td>90 min</td>\n",
       "      <td>5.1/10</td>\n",
       "      <td>Movie</td>\n",
       "    </tr>\n",
       "  </tbody>\n",
       "</table>\n",
       "</div>"
      ],
      "text/plain": [
       "                                Show Id                          Title  \\\n",
       "0  cc1b6ed9-cf9e-4057-8303-34577fb54477                       (Un)Well   \n",
       "1  e2ef4e91-fb25-42ab-b485-be8e3b23dedb                         #Alive   \n",
       "2  b01b73b7-81f6-47a7-86d8-acb63080d525  #AnneFrank - Parallel Stories   \n",
       "3  b6611af0-f53c-4a08-9ffa-9716dc57eb9c                       #blackAF   \n",
       "4  7f2d4170-bab8-4d75-adc2-197f7124c070               #cats_the_mewvie   \n",
       "\n",
       "                                         Description  \\\n",
       "0  This docuseries takes a deep dive into the luc...   \n",
       "1  As a grisly virus rampages a city, a lone man ...   \n",
       "2  Through her diary, Anne Frank's story is retol...   \n",
       "3  Kenya Barris and his family navigate relations...   \n",
       "4  This pawesome documentary explores how our fel...   \n",
       "\n",
       "                                           Genres  \\\n",
       "0                                      Reality TV   \n",
       "1  Horror Movies, International Movies, Thrillers   \n",
       "2             Documentaries, International Movies   \n",
       "3                                     TV Comedies   \n",
       "4             Documentaries, International Movies   \n",
       "\n",
       "                                                Cast Production Country  \\\n",
       "0                                            No Data      United States   \n",
       "1                           Yoo Ah-in, Park Shin-hye        South Korea   \n",
       "2                        Helen Mirren, Gengher Gatti              Italy   \n",
       "3  Kenya Barris, Rashida Jones, Iman Benson, Genn...      United States   \n",
       "4                                            No Data             Canada   \n",
       "\n",
       "   Release Date Rating  Duration Imdb Score Content Type  \n",
       "0          2020  TV-MA  1 Season     6.6/10      TV Show  \n",
       "1          2020  TV-MA    99 min     6.2/10        Movie  \n",
       "2          2019  TV-14    95 min     6.4/10        Movie  \n",
       "3          2020  TV-MA  1 Season     6.6/10      TV Show  \n",
       "4          2020  TV-14    90 min     5.1/10        Movie  "
      ]
     },
     "execution_count": 89,
     "metadata": {},
     "output_type": "execute_result"
    }
   ],
   "source": [
    "netflix_data.head()"
   ]
  },
  {
   "cell_type": "code",
   "execution_count": 130,
   "id": "17a51fa2",
   "metadata": {},
   "outputs": [
    {
     "data": {
      "image/png": "[encoded data removed]",
      "text/plain": [
       "<Figure size 720x576 with 1 Axes>"
      ]
     },
     "metadata": {},
     "output_type": "display_data"
    }
   ],
   "source": [
    "# Анализ\n",
    "#Проанализируем рейтинги фильмов\n",
    "\n",
    "plt.figure(figsize=(10,8))\n",
    "sns.set(style=\"white\")\n",
    "\n",
    "# Сделаем переход от самого темного фиолетового к самому светлому\n",
    "ax = sns.countplot(x=\"Rating\", data=netflix_movies, palette=\"Purples_r\", order=netflix_movies['Rating'].value_counts().index[0:10])"
   ]
  },
  {
   "cell_type": "code",
   "execution_count": 92,
   "id": "a279c34a",
   "metadata": {},
   "outputs": [],
   "source": [
    "\n",
    "#Проанализируем соотношение разных типов контента на платформе \n",
    "#Разделим сериалы и фильмы\n",
    "\n",
    "netflix_shows = netflix_data[netflix_data['Content Type']=='TV Show']\n",
    "netflix_movies = netflix_data[netflix_data['Content Type']=='Movie']"
   ]
  },
  {
   "cell_type": "code",
   "execution_count": 98,
   "id": "03f7dba3",
   "metadata": {},
   "outputs": [
    {
     "data": {
      "text/html": [
       "<div>\n",
       "<style scoped>\n",
       "    .dataframe tbody tr th:only-of-type {\n",
       "        vertical-align: middle;\n",
       "    }\n",
       "\n",
       "    .dataframe tbody tr th {\n",
       "        vertical-align: top;\n",
       "    }\n",
       "\n",
       "    .dataframe thead th {\n",
       "        text-align: right;\n",
       "    }\n",
       "</style>\n",
       "<table border=\"1\" class=\"dataframe\">\n",
       "  <thead>\n",
       "    <tr style=\"text-align: right;\">\n",
       "      <th>Content Type</th>\n",
       "      <th>Movie</th>\n",
       "      <th>TV Show</th>\n",
       "    </tr>\n",
       "  </thead>\n",
       "  <tbody>\n",
       "    <tr>\n",
       "      <th>Content Type</th>\n",
       "      <td>0.65</td>\n",
       "      <td>0.35</td>\n",
       "    </tr>\n",
       "  </tbody>\n",
       "</table>\n",
       "</div>"
      ],
      "text/plain": [
       "Content Type  Movie  TV Show\n",
       "Content Type   0.65     0.35"
      ]
     },
     "execution_count": 98,
     "metadata": {},
     "output_type": "execute_result"
    }
   ],
   "source": [
    "#Соотношение фильмов и телепередач\n",
    "\n",
    "a=netflix_data.groupby(['Content Type'])['Content Type'].count()\n",
    "b=len(netflix_data)\n",
    "r=((a/b)).round(2)\n",
    "\n",
    "mf_ratio = pd.DataFrame(r).T\n",
    "mf_ratio"
   ]
  },
  {
   "cell_type": "code",
   "execution_count": 114,
   "id": "6dcefae0",
   "metadata": {},
   "outputs": [
    {
     "data": {
      "text/plain": [
       "<AxesSubplot:title={'center':'Content Type on Netflix'}, ylabel='Content Type'>"
      ]
     },
     "execution_count": 114,
     "metadata": {},
     "output_type": "execute_result"
    },
    {
     "data": {
      "image/png": "[encoded data removed]",
      "text/plain": [
       "<Figure size 576x1152 with 1 Axes>"
      ]
     },
     "metadata": {},
     "output_type": "display_data"
    }
   ],
   "source": [
    "#Для наглядности, построим круговую диаграмму\n",
    "\n",
    "contentType_count = netflix_data['Content Type'].value_counts()\n",
    "contentType_count.plot(kind='pie', autopct='%1.1f%%', legend=True, explode=(0, 0.1), \n",
    "                        title = \"Content Type on Netflix\", colors=[\"#800080\", \"#FF81C0\"],\n",
    "                        figsize=(8,16))"
   ]
  },
  {
   "cell_type": "markdown",
   "id": "e640be25",
   "metadata": {},
   "source": [
    "Диаграмма наглядно показывает, что количество фильмов превышает количество ТВ-шоу на платформе "
   ]
  },
  {
   "cell_type": "code",
   "execution_count": 118,
   "id": "f476fdef",
   "metadata": {},
   "outputs": [
    {
     "data": {
      "text/plain": [
       "Text(0, 0.5, 'Count of Movie/ TV Show')"
      ]
     },
     "execution_count": 118,
     "metadata": {},
     "output_type": "execute_result"
    },
    {
     "data": {
      "image/png": "[encoded data removed]",
      "text/plain": [
       "<Figure size 1440x1440 with 1 Axes>"
      ]
     },
     "metadata": {},
     "output_type": "display_data"
    }
   ],
   "source": [
    "#Год выпуска\n",
    "# Попробуем выявить зависимость между годом выпуска и количеством видеоконтента на платформе\n",
    "netflix_data['Release Date'] = netflix_data['Release Date'].round().astype(int)\n",
    "content_added = netflix_data.groupby([\"Content Type\",\"Release Date\"])[\"Release Date\"].count().unstack('Content Type')\n",
    "content_added = content_added.sort_values(ascending=True, by='Release Date')\n",
    "content_added.plot(kind='bar',color=[\"#800080\",\"#FFC0CB\"],figsize=(20, 20), title = \"Release Year\").set_ylabel(\"Count of Movie/ TV Show\")"
   ]
  },
  {
   "cell_type": "markdown",
   "id": "dabf4203",
   "metadata": {},
   "source": [
    "Вывод: Судя по графику, с течением времени количество как фильмов так и сериалов на платформе возрасло. Наиболее заментый подъем наблюдаетсяв период с 2014 года. "
   ]
  },
  {
   "cell_type": "code",
   "execution_count": 134,
   "id": "fc3e9148",
   "metadata": {
    "scrolled": false
   },
   "outputs": [
    {
     "data": {
      "text/plain": [
       "Text(0, 0.5, 'Count of Movie/ TV Show')"
      ]
     },
     "execution_count": 134,
     "metadata": {},
     "output_type": "execute_result"
    },
    {
     "data": {
      "image/png": "[encoded data removed]",
      "text/plain": [
       "<Figure size 720x720 with 1 Axes>"
      ]
     },
     "metadata": {},
     "output_type": "display_data"
    }
   ],
   "source": [
    "#Проведем анализ рейтингов фильмов в зависимости от вида контента \n",
    "rating_grouped = netflix_data.groupby([\"Content Type\",\"Rating\"])[\"Rating\"].count().unstack('Content Type')\n",
    "rating_grouped.columns =['Movie', 'TV Show']\n",
    "rating_grouped['TV Show'] = rating_grouped['TV Show'].fillna(0)\n",
    "rating_grouped['Total'] = rating_grouped[\"Movie\"] + rating_grouped[\"TV Show\"]\n",
    "rating_grouped = rating_grouped.sort_values(ascending=False, by='Total')\n",
    "rating_grouped.plot(kind='bar',y=[\"Movie\",\"TV Show\"],color=[\"#800080\",\"#FFC0CB\"],figsize=(10, 10)).set_ylabel(\"Count of Movie/ TV Show\")"
   ]
  },
  {
   "cell_type": "markdown",
   "id": "ab9b108e",
   "metadata": {},
   "source": [
    "На графике видно, что количество ТВ-шоу категории TV-Y и TV-Y7 больше, чем фильмов. Это означает, что детский контент более широко предствавлен именно в формате телевизионных шоу. Формат ТВ-шоу отсутствует в категориях рейтингов PG, PG-13 и G, что означет, что Netflix не предоставляет контент ТВ-шоу для просмотра детей под присмотром родителей, а так же в рейтинге R для аудитории строго старше 16 лет."
   ]
  },
  {
   "cell_type": "code",
   "execution_count": 136,
   "id": "f91593a7",
   "metadata": {},
   "outputs": [
    {
     "data": {
      "text/plain": [
       "<AxesSubplot:ylabel='Genres'>"
      ]
     },
     "execution_count": 136,
     "metadata": {},
     "output_type": "execute_result"
    },
    {
     "data": {
      "image/png": "[encoded data removed]",
      "text/plain": [
       "<Figure size 1080x1080 with 1 Axes>"
      ]
     },
     "metadata": {},
     "output_type": "display_data"
    }
   ],
   "source": [
    "# Выявим наиболее популярные жанры \n",
    "genres = \", \".join(netflix_data['Genres']).split(\", \")\n",
    "genres\n",
    "\n",
    "from collections import Counter\n",
    "cnt = Counter()\n",
    "for genre in genres:\n",
    "    cnt[genre] += 1\n",
    "\n",
    "topGenres = cnt.most_common(20)\n",
    "df_topGenres = pd.DataFrame (topGenres, columns = ['Genres','Genres Count'])\n",
    "df_topGenres.sort_values(ascending=True, by='Genres Count', inplace=True)\n",
    "df_topGenres.plot.barh(x='Genres',color=[\"#FFC0CB\",\"#e50914\"],width=0.7,legend=False, figsize=(15, 15))"
   ]
  },
  {
   "cell_type": "markdown",
   "id": "03e24857",
   "metadata": {},
   "source": [
    "Можно увидеть, что наибольшее количество конттента на платформе представленно международными (что бы это не значило) фильмами и ТВ-шоу (сериалы), а также драмами и комедиями. Самый редко встречающийся жанр - реалити шоу."
   ]
  },
  {
   "cell_type": "code",
   "execution_count": 137,
   "id": "1ad06044",
   "metadata": {},
   "outputs": [
    {
     "data": {
      "text/plain": [
       "0             United States\n",
       "1               South Korea\n",
       "2                     Italy\n",
       "3             United States\n",
       "4                    Canada\n",
       "5                 Indonesia\n",
       "6                 Indonesia\n",
       "7             United States\n",
       "8             United States\n",
       "9                   Romania\n",
       "10                  Romania\n",
       "11    South Africa, Nigeria\n",
       "12                   France\n",
       "13              South Korea\n",
       "14            United States\n",
       "15          Portugal, Spain\n",
       "16            United States\n",
       "17                Indonesia\n",
       "18                    India\n",
       "19                    Egypt\n",
       "Name: Production Country, dtype: object"
      ]
     },
     "execution_count": 137,
     "metadata": {},
     "output_type": "execute_result"
    }
   ],
   "source": [
    "# Посмотрим на распределение контента по странам \n",
    "\n",
    "\n",
    "netflix_data['Production Country'].head(20)"
   ]
  },
  {
   "cell_type": "code",
   "execution_count": 140,
   "id": "0441791c",
   "metadata": {},
   "outputs": [
    {
     "data": {
      "text/html": [
       "<div>\n",
       "<style scoped>\n",
       "    .dataframe tbody tr th:only-of-type {\n",
       "        vertical-align: middle;\n",
       "    }\n",
       "\n",
       "    .dataframe tbody tr th {\n",
       "        vertical-align: top;\n",
       "    }\n",
       "\n",
       "    .dataframe thead th {\n",
       "        text-align: right;\n",
       "    }\n",
       "</style>\n",
       "<table border=\"1\" class=\"dataframe\">\n",
       "  <thead>\n",
       "    <tr style=\"text-align: right;\">\n",
       "      <th></th>\n",
       "      <th>Show Id</th>\n",
       "      <th>Title</th>\n",
       "      <th>Description</th>\n",
       "      <th>Genres</th>\n",
       "      <th>Cast</th>\n",
       "      <th>Production Country</th>\n",
       "      <th>Release Date</th>\n",
       "      <th>Rating</th>\n",
       "      <th>Duration</th>\n",
       "      <th>Imdb Score</th>\n",
       "      <th>Content Type</th>\n",
       "      <th>First Production Country</th>\n",
       "    </tr>\n",
       "  </thead>\n",
       "  <tbody>\n",
       "    <tr>\n",
       "      <th>0</th>\n",
       "      <td>cc1b6ed9-cf9e-4057-8303-34577fb54477</td>\n",
       "      <td>(Un)Well</td>\n",
       "      <td>This docuseries takes a deep dive into the luc...</td>\n",
       "      <td>Reality TV</td>\n",
       "      <td>No Data</td>\n",
       "      <td>United States</td>\n",
       "      <td>2020</td>\n",
       "      <td>TV-MA</td>\n",
       "      <td>1 Season</td>\n",
       "      <td>6.6/10</td>\n",
       "      <td>TV Show</td>\n",
       "      <td>United States</td>\n",
       "    </tr>\n",
       "    <tr>\n",
       "      <th>1</th>\n",
       "      <td>e2ef4e91-fb25-42ab-b485-be8e3b23dedb</td>\n",
       "      <td>#Alive</td>\n",
       "      <td>As a grisly virus rampages a city, a lone man ...</td>\n",
       "      <td>Horror Movies, International Movies, Thrillers</td>\n",
       "      <td>Yoo Ah-in, Park Shin-hye</td>\n",
       "      <td>South Korea</td>\n",
       "      <td>2020</td>\n",
       "      <td>TV-MA</td>\n",
       "      <td>99 min</td>\n",
       "      <td>6.2/10</td>\n",
       "      <td>Movie</td>\n",
       "      <td>South Korea</td>\n",
       "    </tr>\n",
       "    <tr>\n",
       "      <th>2</th>\n",
       "      <td>b01b73b7-81f6-47a7-86d8-acb63080d525</td>\n",
       "      <td>#AnneFrank - Parallel Stories</td>\n",
       "      <td>Through her diary, Anne Frank's story is retol...</td>\n",
       "      <td>Documentaries, International Movies</td>\n",
       "      <td>Helen Mirren, Gengher Gatti</td>\n",
       "      <td>Italy</td>\n",
       "      <td>2019</td>\n",
       "      <td>TV-14</td>\n",
       "      <td>95 min</td>\n",
       "      <td>6.4/10</td>\n",
       "      <td>Movie</td>\n",
       "      <td>Italy</td>\n",
       "    </tr>\n",
       "    <tr>\n",
       "      <th>3</th>\n",
       "      <td>b6611af0-f53c-4a08-9ffa-9716dc57eb9c</td>\n",
       "      <td>#blackAF</td>\n",
       "      <td>Kenya Barris and his family navigate relations...</td>\n",
       "      <td>TV Comedies</td>\n",
       "      <td>Kenya Barris, Rashida Jones, Iman Benson, Genn...</td>\n",
       "      <td>United States</td>\n",
       "      <td>2020</td>\n",
       "      <td>TV-MA</td>\n",
       "      <td>1 Season</td>\n",
       "      <td>6.6/10</td>\n",
       "      <td>TV Show</td>\n",
       "      <td>United States</td>\n",
       "    </tr>\n",
       "    <tr>\n",
       "      <th>4</th>\n",
       "      <td>7f2d4170-bab8-4d75-adc2-197f7124c070</td>\n",
       "      <td>#cats_the_mewvie</td>\n",
       "      <td>This pawesome documentary explores how our fel...</td>\n",
       "      <td>Documentaries, International Movies</td>\n",
       "      <td>No Data</td>\n",
       "      <td>Canada</td>\n",
       "      <td>2020</td>\n",
       "      <td>TV-14</td>\n",
       "      <td>90 min</td>\n",
       "      <td>5.1/10</td>\n",
       "      <td>Movie</td>\n",
       "      <td>Canada</td>\n",
       "    </tr>\n",
       "  </tbody>\n",
       "</table>\n",
       "</div>"
      ],
      "text/plain": [
       "                                Show Id                          Title  \\\n",
       "0  cc1b6ed9-cf9e-4057-8303-34577fb54477                       (Un)Well   \n",
       "1  e2ef4e91-fb25-42ab-b485-be8e3b23dedb                         #Alive   \n",
       "2  b01b73b7-81f6-47a7-86d8-acb63080d525  #AnneFrank - Parallel Stories   \n",
       "3  b6611af0-f53c-4a08-9ffa-9716dc57eb9c                       #blackAF   \n",
       "4  7f2d4170-bab8-4d75-adc2-197f7124c070               #cats_the_mewvie   \n",
       "\n",
       "                                         Description  \\\n",
       "0  This docuseries takes a deep dive into the luc...   \n",
       "1  As a grisly virus rampages a city, a lone man ...   \n",
       "2  Through her diary, Anne Frank's story is retol...   \n",
       "3  Kenya Barris and his family navigate relations...   \n",
       "4  This pawesome documentary explores how our fel...   \n",
       "\n",
       "                                           Genres  \\\n",
       "0                                      Reality TV   \n",
       "1  Horror Movies, International Movies, Thrillers   \n",
       "2             Documentaries, International Movies   \n",
       "3                                     TV Comedies   \n",
       "4             Documentaries, International Movies   \n",
       "\n",
       "                                                Cast Production Country  \\\n",
       "0                                            No Data      United States   \n",
       "1                           Yoo Ah-in, Park Shin-hye        South Korea   \n",
       "2                        Helen Mirren, Gengher Gatti              Italy   \n",
       "3  Kenya Barris, Rashida Jones, Iman Benson, Genn...      United States   \n",
       "4                                            No Data             Canada   \n",
       "\n",
       "   Release Date Rating  Duration Imdb Score Content Type  \\\n",
       "0          2020  TV-MA  1 Season     6.6/10      TV Show   \n",
       "1          2020  TV-MA    99 min     6.2/10        Movie   \n",
       "2          2019  TV-14    95 min     6.4/10        Movie   \n",
       "3          2020  TV-MA  1 Season     6.6/10      TV Show   \n",
       "4          2020  TV-14    90 min     5.1/10        Movie   \n",
       "\n",
       "  First Production Country  \n",
       "0            United States  \n",
       "1              South Korea  \n",
       "2                    Italy  \n",
       "3            United States  \n",
       "4                   Canada  "
      ]
     },
     "execution_count": 140,
     "metadata": {},
     "output_type": "execute_result"
    }
   ],
   "source": [
    "#Поскольку в одном столбце указано несколько стран, мы создаем еще один столбец, в котором будет храниться только первая из указанных стран\n",
    "\n",
    "netflix_data['First Production Country'] = netflix_data['Production Country'].str.split(',', expand=True)[0]\n",
    "netflix_data.head() # проверяем, вышло ли.."
   ]
  },
  {
   "cell_type": "code",
   "execution_count": 143,
   "id": "e3f23306",
   "metadata": {},
   "outputs": [
    {
     "data": {
      "text/plain": [
       "Text(0.5, 0, 'Production Country')"
      ]
     },
     "execution_count": 143,
     "metadata": {},
     "output_type": "execute_result"
    },
    {
     "data": {
      "image/png": "[encoded data removed]",
      "text/plain": [
       "<Figure size 720x360 with 1 Axes>"
      ]
     },
     "metadata": {},
     "output_type": "display_data"
    }
   ],
   "source": [
    "country_grouped = netflix_data.groupby([\"Content Type\",\"First Production Country\"])[\"First Production Country\"].count().unstack('Content Type')\n",
    "country_grouped.columns =['Movie', 'TV Show']\n",
    "country_grouped['Total'] = country_grouped[\"Movie\"] + country_grouped[\"TV Show\"]\n",
    "country_grouped = country_grouped.sort_values(ascending=False, by='Total')\n",
    "country_grouped[:10].plot(kind='bar',y=[\"Movie\",\"TV Show\"],color=[\"#800080\",\"#FFC0CB\"],figsize=(10, 5)).set_ylabel(\"Count of Movie/ TV Show\")\n",
    "plt.xlabel(\"Production Country\")"
   ]
  },
  {
   "cell_type": "markdown",
   "id": "8e795c01",
   "metadata": {},
   "source": [
    "Согласно графику распределения контента по странам, можно сделать вывод о том, что наибольшее количество фильмов и сериалов производят в США, однако Индия тоже держит давольно высокую планку и активно пытается захватит) киноиндустрию, все больше и больше радуя нас своими фильмами (сериалы и ТВ-шоу их явно не сильно интересуют, судя по графику, они отчаялись создать что-то лучше Зиты и Гиты)."
   ]
  },
  {
   "cell_type": "code",
   "execution_count": 144,
   "id": "8e43f8ff",
   "metadata": {},
   "outputs": [
    {
     "data": {
      "text/html": [
       "<div>\n",
       "<style scoped>\n",
       "    .dataframe tbody tr th:only-of-type {\n",
       "        vertical-align: middle;\n",
       "    }\n",
       "\n",
       "    .dataframe tbody tr th {\n",
       "        vertical-align: top;\n",
       "    }\n",
       "\n",
       "    .dataframe thead th {\n",
       "        text-align: right;\n",
       "    }\n",
       "</style>\n",
       "<table border=\"1\" class=\"dataframe\">\n",
       "  <thead>\n",
       "    <tr style=\"text-align: right;\">\n",
       "      <th></th>\n",
       "      <th>Title</th>\n",
       "      <th>Imdb Score</th>\n",
       "      <th>Content Type</th>\n",
       "    </tr>\n",
       "  </thead>\n",
       "  <tbody>\n",
       "    <tr>\n",
       "      <th>0</th>\n",
       "      <td>Breaking Bad</td>\n",
       "      <td>9.4/10</td>\n",
       "      <td>TV Show</td>\n",
       "    </tr>\n",
       "    <tr>\n",
       "      <th>1</th>\n",
       "      <td>Avatar: The Last Airbender</td>\n",
       "      <td>9.3/10</td>\n",
       "      <td>TV Show</td>\n",
       "    </tr>\n",
       "    <tr>\n",
       "      <th>2</th>\n",
       "      <td>Our Planet</td>\n",
       "      <td>9.2/10</td>\n",
       "      <td>TV Show</td>\n",
       "    </tr>\n",
       "    <tr>\n",
       "      <th>3</th>\n",
       "      <td>Reply 1988</td>\n",
       "      <td>9.2/10</td>\n",
       "      <td>TV Show</td>\n",
       "    </tr>\n",
       "    <tr>\n",
       "      <th>4</th>\n",
       "      <td>The Last Dance</td>\n",
       "      <td>9.2/10</td>\n",
       "      <td>TV Show</td>\n",
       "    </tr>\n",
       "    <tr>\n",
       "      <th>5</th>\n",
       "      <td>David Attenborough: A Life on Our Planet</td>\n",
       "      <td>9.1/10</td>\n",
       "      <td>Movie</td>\n",
       "    </tr>\n",
       "    <tr>\n",
       "      <th>6</th>\n",
       "      <td>Leyla and Mecnun</td>\n",
       "      <td>9.1/10</td>\n",
       "      <td>TV Show</td>\n",
       "    </tr>\n",
       "    <tr>\n",
       "      <th>7</th>\n",
       "      <td>The Untamed</td>\n",
       "      <td>9.1/10</td>\n",
       "      <td>TV Show</td>\n",
       "    </tr>\n",
       "    <tr>\n",
       "      <th>8</th>\n",
       "      <td>Attack on Titan</td>\n",
       "      <td>9.0/10</td>\n",
       "      <td>TV Show</td>\n",
       "    </tr>\n",
       "    <tr>\n",
       "      <th>9</th>\n",
       "      <td>Bo Burnham: Inside</td>\n",
       "      <td>9.0/10</td>\n",
       "      <td>Movie</td>\n",
       "    </tr>\n",
       "    <tr>\n",
       "      <th>10</th>\n",
       "      <td>Fullmetal Alchemist: Brotherhood</td>\n",
       "      <td>9.0/10</td>\n",
       "      <td>TV Show</td>\n",
       "    </tr>\n",
       "    <tr>\n",
       "      <th>11</th>\n",
       "      <td>Hunter X Hunter (2011)</td>\n",
       "      <td>9.0/10</td>\n",
       "      <td>TV Show</td>\n",
       "    </tr>\n",
       "    <tr>\n",
       "      <th>12</th>\n",
       "      <td>Leah Remini: Scientology and the Aftermath</td>\n",
       "      <td>9.0/10</td>\n",
       "      <td>TV Show</td>\n",
       "    </tr>\n",
       "    <tr>\n",
       "      <th>13</th>\n",
       "      <td>My Mister</td>\n",
       "      <td>9.0/10</td>\n",
       "      <td>TV Show</td>\n",
       "    </tr>\n",
       "    <tr>\n",
       "      <th>14</th>\n",
       "      <td>No Longer kids</td>\n",
       "      <td>9.0/10</td>\n",
       "      <td>Movie</td>\n",
       "    </tr>\n",
       "  </tbody>\n",
       "</table>\n",
       "</div>"
      ],
      "text/plain": [
       "                                         Title Imdb Score Content Type\n",
       "0                                 Breaking Bad     9.4/10      TV Show\n",
       "1                   Avatar: The Last Airbender     9.3/10      TV Show\n",
       "2                                   Our Planet     9.2/10      TV Show\n",
       "3                                   Reply 1988     9.2/10      TV Show\n",
       "4                               The Last Dance     9.2/10      TV Show\n",
       "5     David Attenborough: A Life on Our Planet     9.1/10        Movie\n",
       "6                             Leyla and Mecnun     9.1/10      TV Show\n",
       "7                                  The Untamed     9.1/10      TV Show\n",
       "8                              Attack on Titan     9.0/10      TV Show\n",
       "9                           Bo Burnham: Inside     9.0/10        Movie\n",
       "10            Fullmetal Alchemist: Brotherhood     9.0/10      TV Show\n",
       "11                      Hunter X Hunter (2011)     9.0/10      TV Show\n",
       "12  Leah Remini: Scientology and the Aftermath     9.0/10      TV Show\n",
       "13                                   My Mister     9.0/10      TV Show\n",
       "14                              No Longer kids     9.0/10        Movie"
      ]
     },
     "execution_count": 144,
     "metadata": {},
     "output_type": "execute_result"
    }
   ],
   "source": [
    "# Проанализируем показатель оценки IMDB\n",
    "# Выявим контент с самым высоким рейтингом - это контент с оценкой IMDB более 9,0\n",
    "\n",
    "data_topRated = netflix_data.loc[netflix_data[\"Imdb Score\"] >= '9.0/10', [\"Title\",\"Imdb Score\",\"Content Type\"]]\n",
    "data_topRated = data_topRated.sort_values(ascending=False, by='Imdb Score').reset_index(drop=True)\n",
    "data_topRated"
   ]
  },
  {
   "cell_type": "markdown",
   "id": "4ed6a15c",
   "metadata": {},
   "source": [
    "Как мы видим: \"Во все тяжкие\" - телешоу №1 в рейтинге, а фильм №1 в рейтинге - \"Дэвид Аттенборо: жизнь на нашей планете\" \n"
   ]
  },
  {
   "cell_type": "code",
   "execution_count": 145,
   "id": "52c2808b",
   "metadata": {},
   "outputs": [
    {
     "data": {
      "text/html": [
       "<div>\n",
       "<style scoped>\n",
       "    .dataframe tbody tr th:only-of-type {\n",
       "        vertical-align: middle;\n",
       "    }\n",
       "\n",
       "    .dataframe tbody tr th {\n",
       "        vertical-align: top;\n",
       "    }\n",
       "\n",
       "    .dataframe thead th {\n",
       "        text-align: right;\n",
       "    }\n",
       "</style>\n",
       "<table border=\"1\" class=\"dataframe\">\n",
       "  <thead>\n",
       "    <tr style=\"text-align: right;\">\n",
       "      <th></th>\n",
       "      <th>Title</th>\n",
       "      <th>Imdb Score</th>\n",
       "      <th>Content Type</th>\n",
       "    </tr>\n",
       "  </thead>\n",
       "  <tbody>\n",
       "    <tr>\n",
       "      <th>0</th>\n",
       "      <td>Aerials</td>\n",
       "      <td>1.3/10</td>\n",
       "      <td>Movie</td>\n",
       "    </tr>\n",
       "    <tr>\n",
       "      <th>1</th>\n",
       "      <td>Time to Dance</td>\n",
       "      <td>1.7/10</td>\n",
       "      <td>Movie</td>\n",
       "    </tr>\n",
       "    <tr>\n",
       "      <th>2</th>\n",
       "      <td>Himmatwala</td>\n",
       "      <td>1.8/10</td>\n",
       "      <td>Movie</td>\n",
       "    </tr>\n",
       "    <tr>\n",
       "      <th>3</th>\n",
       "      <td>5Gang</td>\n",
       "      <td>1.9/10</td>\n",
       "      <td>Movie</td>\n",
       "    </tr>\n",
       "    <tr>\n",
       "      <th>4</th>\n",
       "      <td>Cross: Rise of the Villains</td>\n",
       "      <td>1.9/10</td>\n",
       "      <td>Movie</td>\n",
       "    </tr>\n",
       "  </tbody>\n",
       "</table>\n",
       "</div>"
      ],
      "text/plain": [
       "                         Title Imdb Score Content Type\n",
       "0                      Aerials     1.3/10        Movie\n",
       "1                Time to Dance     1.7/10        Movie\n",
       "2                   Himmatwala     1.8/10        Movie\n",
       "3                        5Gang     1.9/10        Movie\n",
       "4  Cross: Rise of the Villains     1.9/10        Movie"
      ]
     },
     "execution_count": 145,
     "metadata": {},
     "output_type": "execute_result"
    }
   ],
   "source": [
    "# Выявим контент с самым низким рейтингом - это контент с оценкой IMDB менее 2,0\n",
    "\n",
    "data_lowestRated = netflix_data.loc[netflix_data[\"Imdb Score\"] < '2.0/10', [\"Title\",\"Imdb Score\",\"Content Type\"]]\n",
    "data_lowestRated = data_lowestRated.sort_values(ascending=True, by='Imdb Score').reset_index(drop=True)\n",
    "data_lowestRated"
   ]
  },
  {
   "cell_type": "markdown",
   "id": "fa002b7a",
   "metadata": {},
   "source": [
    "\"Антены\" - фильм с самым низким рейтингом (возможно, это из-за названия)"
   ]
  },
  {
   "cell_type": "code",
   "execution_count": 147,
   "id": "ad9a352d",
   "metadata": {},
   "outputs": [
    {
     "data": {
      "text/plain": [
       "<AxesSubplot:xlabel='Actor'>"
      ]
     },
     "execution_count": 147,
     "metadata": {},
     "output_type": "execute_result"
    },
    {
     "data": {
      "image/png": "[encoded data removed]",
      "text/plain": [
       "<Figure size 720x720 with 1 Axes>"
      ]
     },
     "metadata": {},
     "output_type": "display_data"
    }
   ],
   "source": [
    "#Проанализируем каст \n",
    "# (А) Самые популярные актеры фильмов \n",
    "cast_grouped =  netflix_data.groupby([\"Content Type\",\"Cast\"])[\"Cast\"].count().unstack('Content Type')\n",
    "cast_grouped.columns =['Movie', 'TV Show']\n",
    "cast_grouped_movie = cast_grouped[cast_grouped[\"Movie\"].notnull()].iloc[:,:1]\n",
    "cast_grouped_movie.reset_index(level='Cast', inplace=True)\n",
    "\n",
    "movieCast = \", \".join(cast_grouped_movie['Cast']).split(\", \")\n",
    "movieCast\n",
    "\n",
    "cnt_movieCast = Counter()\n",
    "\n",
    "for cast in movieCast:\n",
    "    cnt_movieCast[cast] += 1\n",
    "\n",
    "movieCast = cnt_movieCast.most_common(20)\n",
    "data_movieCast = pd.DataFrame (movieCast, columns = ['Actor','Actor Count'])\n",
    "data_movieCast.sort_values(ascending=False, by='Actor Count', inplace=True)\n",
    "data_movieCast.plot(kind='bar',x='Actor',color=[\"#800080\",\"#FFC0CB\"],figsize=(10, 10))"
   ]
  },
  {
   "cell_type": "markdown",
   "id": "394d3ae2",
   "metadata": {},
   "source": [
    "Наибольшей популярностью отлечился Shan Rukh Khan, известный как «король Болливуда» (очень похож на индийского Джеки Чана) Anupam Kher, Boman Irani, Kareena Kapoor - аналогично являются индийскими актерами, что говорит о мощнейших возможностях Болливуда и о скорости создания там восхитительного контента! "
   ]
  },
  {
   "cell_type": "code",
   "execution_count": 148,
   "id": "80efb557",
   "metadata": {},
   "outputs": [
    {
     "data": {
      "text/plain": [
       "<AxesSubplot:xlabel='Actor'>"
      ]
     },
     "execution_count": 148,
     "metadata": {},
     "output_type": "execute_result"
    },
    {
     "data": {
      "image/png": "[encoded data removed]",
      "text/plain": [
       "<Figure size 720x720 with 1 Axes>"
      ]
     },
     "metadata": {},
     "output_type": "display_data"
    }
   ],
   "source": [
    "# (B) Самые популярные актеры ТВ-шоу (сериалов)\n",
    "\n",
    "cast_grouped_tv = cast_grouped[cast_grouped[\"TV Show\"].notnull()].iloc[:,:1]\n",
    "cast_grouped_tv.reset_index(level='Cast', inplace=True)\n",
    "\n",
    "tvCast = \", \".join(cast_grouped_tv['Cast']).split(\", \")\n",
    "tvCast\n",
    "\n",
    "cnt_tvCast = Counter()\n",
    "\n",
    "for cast in tvCast:\n",
    "    cnt_tvCast[cast] += 1\n",
    "\n",
    "tvCast = cnt_tvCast.most_common(20)\n",
    "data_tvCast = pd.DataFrame (tvCast, columns = ['Actor','Actor Count'])\n",
    "data_tvCast.sort_values(ascending=False, by='Actor Count', inplace=True)\n",
    "data_tvCast.plot(kind='bar',x='Actor',color=[\"#800080\",\"#FFC0CB\"],figsize=(10, 10))"
   ]
  },
  {
   "cell_type": "code",
   "execution_count": null,
   "id": "f08d9c27",
   "metadata": {},
   "outputs": [],
   "source": [
    "Из полученного графика видно, что в топе находятся Takahiro Sakurai и Yuki Kaji, которые являются японскими телеведущими и оба выглядят как солисты группы На-На."
   ]
  }
 ],
 "metadata": {
  "kernelspec": {
   "display_name": "Python 3 (ipykernel)",
   "language": "python",
   "name": "python3"
  },
  "language_info": {
   "codemirror_mode": {
    "name": "ipython",
    "version": 3
   },
   "file_extension": ".py",
   "mimetype": "text/x-python",
   "name": "python",
   "nbconvert_exporter": "python",
   "pygments_lexer": "ipython3",
   "version": "3.9.7"
  }
 },
 "nbformat": 4,
 "nbformat_minor": 5
}
